{
 "cells": [
  {
   "cell_type": "code",
   "execution_count": 21,
   "metadata": {},
   "outputs": [],
   "source": [
    "import sys\n",
    "sys.path.append(\"../\")\n",
    "\n",
    "import pandas as pd\n",
    "import numpy as np\n",
    "from ml_from_scratch.neighbors.base import baseKNN"
   ]
  },
  {
   "cell_type": "markdown",
   "metadata": {},
   "source": [
    "Initial `baseKNN` testing"
   ]
  },
  {
   "cell_type": "code",
   "execution_count": 22,
   "metadata": {},
   "outputs": [
    {
     "data": {
      "text/plain": [
       "array([[70.04371219, 84.41866429],\n",
       "       [67.65143359, 72.78580572],\n",
       "       [95.14579574,  1.2703197 ],\n",
       "       [41.35876988,  4.88127938],\n",
       "       [ 9.99285613, 50.80663058],\n",
       "       [20.02475393, 74.41541688],\n",
       "       [19.2892003 , 70.08447522],\n",
       "       [29.32281059, 77.44794543],\n",
       "       [ 0.51088388, 11.28576536],\n",
       "       [11.0953672 , 24.76682287],\n",
       "       [ 2.32362992, 72.73211542],\n",
       "       [34.0034942 , 19.75031564],\n",
       "       [90.91795928, 97.8346985 ],\n",
       "       [53.28025441, 25.91318494],\n",
       "       [58.38126188, 32.56906529]])"
      ]
     },
     "metadata": {},
     "output_type": "display_data"
    },
    {
     "data": {
      "text/plain": [
       "array([ 0,  1,  2,  3,  4,  5,  6,  7,  8,  9, 10, 11, 12, 13, 14])"
      ]
     },
     "metadata": {},
     "output_type": "display_data"
    }
   ],
   "source": [
    "# generate sample data\n",
    "np.random.seed(666)\n",
    "X_train = np.random.rand(15, 2) * 100 # 15 rows, 2 kolom\n",
    "y_train = np.arange(15)\n",
    "\n",
    "display(X_train, y_train)"
   ]
  },
  {
   "cell_type": "code",
   "execution_count": 23,
   "metadata": {},
   "outputs": [
    {
     "name": "stdout",
     "output_type": "stream",
     "text": [
      "calculated nearest distance: [ 6.21236384 15.21217145 21.27853309]\n",
      "labels of the nearest neighbors: [11  3  9]\n"
     ]
    },
    {
     "data": {
      "text/plain": [
       "None"
      ]
     },
     "metadata": {},
     "output_type": "display_data"
    },
    {
     "data": {
      "text/plain": [
       "None"
      ]
     },
     "metadata": {},
     "output_type": "display_data"
    }
   ],
   "source": [
    "# init base knn\n",
    "model = baseKNN(k=3, metric=\"euclidean\")\n",
    "\n",
    "# fit model \n",
    "model.fit(X_train, y_train)\n",
    "\n",
    "# set test point\n",
    "test_point = np.array([[30, 15]])\n",
    "\n",
    "# find nearest neighbors\n",
    "nearest_neighbors, nearest_neighbors_distances = model._get_nearest_neighbors(test_point)\n",
    "display(print(f\"calculated nearest distance: {nearest_neighbors_distances}\"),\n",
    "        print(f\"labels of the nearest neighbors: {nearest_neighbors}\"))"
   ]
  },
  {
   "cell_type": "markdown",
   "metadata": {},
   "source": [
    "Test `baseKNN` with Pandas"
   ]
  },
  {
   "cell_type": "code",
   "execution_count": 24,
   "metadata": {},
   "outputs": [
    {
     "data": {
      "text/html": [
       "<div>\n",
       "<style scoped>\n",
       "    .dataframe tbody tr th:only-of-type {\n",
       "        vertical-align: middle;\n",
       "    }\n",
       "\n",
       "    .dataframe tbody tr th {\n",
       "        vertical-align: top;\n",
       "    }\n",
       "\n",
       "    .dataframe thead th {\n",
       "        text-align: right;\n",
       "    }\n",
       "</style>\n",
       "<table border=\"1\" class=\"dataframe\">\n",
       "  <thead>\n",
       "    <tr style=\"text-align: right;\">\n",
       "      <th></th>\n",
       "      <th>Feature_1</th>\n",
       "      <th>Feature_2</th>\n",
       "      <th>Target</th>\n",
       "    </tr>\n",
       "  </thead>\n",
       "  <tbody>\n",
       "    <tr>\n",
       "      <th>0</th>\n",
       "      <td>70.043712</td>\n",
       "      <td>84.418664</td>\n",
       "      <td>0.0</td>\n",
       "    </tr>\n",
       "    <tr>\n",
       "      <th>1</th>\n",
       "      <td>67.651434</td>\n",
       "      <td>72.785806</td>\n",
       "      <td>1.0</td>\n",
       "    </tr>\n",
       "    <tr>\n",
       "      <th>2</th>\n",
       "      <td>95.145796</td>\n",
       "      <td>1.270320</td>\n",
       "      <td>2.0</td>\n",
       "    </tr>\n",
       "    <tr>\n",
       "      <th>3</th>\n",
       "      <td>41.358770</td>\n",
       "      <td>4.881279</td>\n",
       "      <td>3.0</td>\n",
       "    </tr>\n",
       "    <tr>\n",
       "      <th>4</th>\n",
       "      <td>9.992856</td>\n",
       "      <td>50.806631</td>\n",
       "      <td>4.0</td>\n",
       "    </tr>\n",
       "    <tr>\n",
       "      <th>5</th>\n",
       "      <td>20.024754</td>\n",
       "      <td>74.415417</td>\n",
       "      <td>5.0</td>\n",
       "    </tr>\n",
       "    <tr>\n",
       "      <th>6</th>\n",
       "      <td>19.289200</td>\n",
       "      <td>70.084475</td>\n",
       "      <td>6.0</td>\n",
       "    </tr>\n",
       "    <tr>\n",
       "      <th>7</th>\n",
       "      <td>29.322811</td>\n",
       "      <td>77.447945</td>\n",
       "      <td>7.0</td>\n",
       "    </tr>\n",
       "    <tr>\n",
       "      <th>8</th>\n",
       "      <td>0.510884</td>\n",
       "      <td>11.285765</td>\n",
       "      <td>8.0</td>\n",
       "    </tr>\n",
       "    <tr>\n",
       "      <th>9</th>\n",
       "      <td>11.095367</td>\n",
       "      <td>24.766823</td>\n",
       "      <td>9.0</td>\n",
       "    </tr>\n",
       "    <tr>\n",
       "      <th>10</th>\n",
       "      <td>2.323630</td>\n",
       "      <td>72.732115</td>\n",
       "      <td>10.0</td>\n",
       "    </tr>\n",
       "    <tr>\n",
       "      <th>11</th>\n",
       "      <td>34.003494</td>\n",
       "      <td>19.750316</td>\n",
       "      <td>11.0</td>\n",
       "    </tr>\n",
       "    <tr>\n",
       "      <th>12</th>\n",
       "      <td>90.917959</td>\n",
       "      <td>97.834699</td>\n",
       "      <td>12.0</td>\n",
       "    </tr>\n",
       "    <tr>\n",
       "      <th>13</th>\n",
       "      <td>53.280254</td>\n",
       "      <td>25.913185</td>\n",
       "      <td>13.0</td>\n",
       "    </tr>\n",
       "    <tr>\n",
       "      <th>14</th>\n",
       "      <td>58.381262</td>\n",
       "      <td>32.569065</td>\n",
       "      <td>14.0</td>\n",
       "    </tr>\n",
       "  </tbody>\n",
       "</table>\n",
       "</div>"
      ],
      "text/plain": [
       "    Feature_1  Feature_2  Target\n",
       "0   70.043712  84.418664     0.0\n",
       "1   67.651434  72.785806     1.0\n",
       "2   95.145796   1.270320     2.0\n",
       "3   41.358770   4.881279     3.0\n",
       "4    9.992856  50.806631     4.0\n",
       "5   20.024754  74.415417     5.0\n",
       "6   19.289200  70.084475     6.0\n",
       "7   29.322811  77.447945     7.0\n",
       "8    0.510884  11.285765     8.0\n",
       "9   11.095367  24.766823     9.0\n",
       "10   2.323630  72.732115    10.0\n",
       "11  34.003494  19.750316    11.0\n",
       "12  90.917959  97.834699    12.0\n",
       "13  53.280254  25.913185    13.0\n",
       "14  58.381262  32.569065    14.0"
      ]
     },
     "execution_count": 24,
     "metadata": {},
     "output_type": "execute_result"
    }
   ],
   "source": [
    "# generate sample data\n",
    "np.random.seed(666)\n",
    "X_train = np.random.rand(15, 2) * 100 # 15 rows, 2 kolom\n",
    "y_train = np.arange(15)\n",
    "\n",
    "# build dataframe\n",
    "data = np.hstack((X_train, y_train.reshape(-1, 1))) # combine x dan y secara horizontal\n",
    "sample_df = pd.DataFrame(data, columns=[\"Feature_1\", \"Feature_2\", \"Target\"])\n",
    "\n",
    "# display dataframe\n",
    "sample_df"
   ]
  },
  {
   "cell_type": "code",
   "execution_count": 25,
   "metadata": {},
   "outputs": [
    {
     "data": {
      "text/plain": [
       "<ml_from_scratch.neighbors.base.baseKNN at 0x1c1c02a2c20>"
      ]
     },
     "execution_count": 25,
     "metadata": {},
     "output_type": "execute_result"
    }
   ],
   "source": [
    "# init base knn\n",
    "model = baseKNN(k=3, metric=\"euclidean\")\n",
    "\n",
    "# fit model \n",
    "X_train = sample_df.drop(columns=\"Target\", axis=0)\n",
    "y_train = sample_df[\"Target\"]\n",
    "model.fit(X_train, y_train)\n",
    "\n",
    "model"
   ]
  },
  {
   "cell_type": "code",
   "execution_count": 26,
   "metadata": {},
   "outputs": [
    {
     "name": "stdout",
     "output_type": "stream",
     "text": [
      "calculated nearest distance: [13.67768095 18.63948763 20.75202463]\n",
      "labels of the nearest neighbors: [13. 14.  3.]\n"
     ]
    },
    {
     "data": {
      "text/plain": [
       "None"
      ]
     },
     "metadata": {},
     "output_type": "display_data"
    },
    {
     "data": {
      "text/plain": [
       "None"
      ]
     },
     "metadata": {},
     "output_type": "display_data"
    }
   ],
   "source": [
    "# set test point\n",
    "test_point = np.array([[60, 14]])\n",
    "\n",
    "# find nearest neighbors\n",
    "nearest_neighbors, nearest_neighbors_distances = model._get_nearest_neighbors(test_point)\n",
    "\n",
    "display(print(f\"calculated nearest distance: {nearest_neighbors_distances}\"),\n",
    "        print(f\"labels of the nearest neighbors: {nearest_neighbors}\"))"
   ]
  },
  {
   "cell_type": "code",
   "execution_count": null,
   "metadata": {},
   "outputs": [],
   "source": []
  }
 ],
 "metadata": {
  "kernelspec": {
   "display_name": ".venv",
   "language": "python",
   "name": "python3"
  },
  "language_info": {
   "codemirror_mode": {
    "name": "ipython",
    "version": 3
   },
   "file_extension": ".py",
   "mimetype": "text/x-python",
   "name": "python",
   "nbconvert_exporter": "python",
   "pygments_lexer": "ipython3",
   "version": "3.10.11"
  }
 },
 "nbformat": 4,
 "nbformat_minor": 2
}
