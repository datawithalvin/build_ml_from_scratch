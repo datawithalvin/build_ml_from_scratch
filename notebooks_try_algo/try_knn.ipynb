{
 "cells": [
  {
   "cell_type": "code",
   "execution_count": 2,
   "metadata": {},
   "outputs": [],
   "source": [
    "import sys\n",
    "sys.path.append(\"../\")\n",
    "\n",
    "import pandas as pd\n",
    "import numpy as np\n",
    "import matplotlib.pyplot as plt\n",
    "\n",
    "from ml_from_scratch.neighbors import baseKNN, regressionKNN, classificationKNN"
   ]
  },
  {
   "cell_type": "markdown",
   "metadata": {},
   "source": [
    "Initial `baseKNN` testing"
   ]
  },
  {
   "cell_type": "code",
   "execution_count": 3,
   "metadata": {},
   "outputs": [
    {
     "data": {
      "text/plain": [
       "array([[70.04371219, 84.41866429],\n",
       "       [67.65143359, 72.78580572],\n",
       "       [95.14579574,  1.2703197 ],\n",
       "       [41.35876988,  4.88127938],\n",
       "       [ 9.99285613, 50.80663058],\n",
       "       [20.02475393, 74.41541688],\n",
       "       [19.2892003 , 70.08447522],\n",
       "       [29.32281059, 77.44794543],\n",
       "       [ 0.51088388, 11.28576536],\n",
       "       [11.0953672 , 24.76682287],\n",
       "       [ 2.32362992, 72.73211542],\n",
       "       [34.0034942 , 19.75031564],\n",
       "       [90.91795928, 97.8346985 ],\n",
       "       [53.28025441, 25.91318494],\n",
       "       [58.38126188, 32.56906529]])"
      ]
     },
     "metadata": {},
     "output_type": "display_data"
    },
    {
     "data": {
      "text/plain": [
       "array([ 0,  1,  2,  3,  4,  5,  6,  7,  8,  9, 10, 11, 12, 13, 14])"
      ]
     },
     "metadata": {},
     "output_type": "display_data"
    }
   ],
   "source": [
    "# generate sample data\n",
    "np.random.seed(666)\n",
    "X_train = np.random.rand(15, 2) * 100 # 15 rows, 2 kolom\n",
    "y_train = np.arange(15)\n",
    "\n",
    "display(X_train, y_train)"
   ]
  },
  {
   "cell_type": "code",
   "execution_count": 4,
   "metadata": {},
   "outputs": [
    {
     "name": "stdout",
     "output_type": "stream",
     "text": [
      "calculated nearest distance: [ 6.21236384 15.21217145 21.27853309]\n",
      "labels of the nearest neighbors: [11  3  9]\n"
     ]
    },
    {
     "data": {
      "text/plain": [
       "None"
      ]
     },
     "metadata": {},
     "output_type": "display_data"
    },
    {
     "data": {
      "text/plain": [
       "None"
      ]
     },
     "metadata": {},
     "output_type": "display_data"
    }
   ],
   "source": [
    "# init base knn\n",
    "model = baseKNN(k=3, metric=\"euclidean\")\n",
    "\n",
    "# fit model \n",
    "model.fit(X_train, y_train)\n",
    "\n",
    "# set test point\n",
    "test_point = np.array([[30, 15]])\n",
    "\n",
    "# find nearest neighbors\n",
    "nearest_neighbors, nearest_neighbors_distances = model._get_nearest_neighbors(test_point)\n",
    "display(print(f\"calculated nearest distance: {nearest_neighbors_distances}\"),\n",
    "        print(f\"labels of the nearest neighbors: {nearest_neighbors}\"))"
   ]
  },
  {
   "cell_type": "markdown",
   "metadata": {},
   "source": [
    "More `baseKNN` testing with Pandas"
   ]
  },
  {
   "cell_type": "code",
   "execution_count": 5,
   "metadata": {},
   "outputs": [
    {
     "data": {
      "text/html": [
       "<div>\n",
       "<style scoped>\n",
       "    .dataframe tbody tr th:only-of-type {\n",
       "        vertical-align: middle;\n",
       "    }\n",
       "\n",
       "    .dataframe tbody tr th {\n",
       "        vertical-align: top;\n",
       "    }\n",
       "\n",
       "    .dataframe thead th {\n",
       "        text-align: right;\n",
       "    }\n",
       "</style>\n",
       "<table border=\"1\" class=\"dataframe\">\n",
       "  <thead>\n",
       "    <tr style=\"text-align: right;\">\n",
       "      <th></th>\n",
       "      <th>Feature_1</th>\n",
       "      <th>Feature_2</th>\n",
       "      <th>Target</th>\n",
       "    </tr>\n",
       "  </thead>\n",
       "  <tbody>\n",
       "    <tr>\n",
       "      <th>0</th>\n",
       "      <td>70.043712</td>\n",
       "      <td>84.418664</td>\n",
       "      <td>0.0</td>\n",
       "    </tr>\n",
       "    <tr>\n",
       "      <th>1</th>\n",
       "      <td>67.651434</td>\n",
       "      <td>72.785806</td>\n",
       "      <td>1.0</td>\n",
       "    </tr>\n",
       "    <tr>\n",
       "      <th>2</th>\n",
       "      <td>95.145796</td>\n",
       "      <td>1.270320</td>\n",
       "      <td>2.0</td>\n",
       "    </tr>\n",
       "    <tr>\n",
       "      <th>3</th>\n",
       "      <td>41.358770</td>\n",
       "      <td>4.881279</td>\n",
       "      <td>3.0</td>\n",
       "    </tr>\n",
       "    <tr>\n",
       "      <th>4</th>\n",
       "      <td>9.992856</td>\n",
       "      <td>50.806631</td>\n",
       "      <td>4.0</td>\n",
       "    </tr>\n",
       "    <tr>\n",
       "      <th>5</th>\n",
       "      <td>20.024754</td>\n",
       "      <td>74.415417</td>\n",
       "      <td>5.0</td>\n",
       "    </tr>\n",
       "    <tr>\n",
       "      <th>6</th>\n",
       "      <td>19.289200</td>\n",
       "      <td>70.084475</td>\n",
       "      <td>6.0</td>\n",
       "    </tr>\n",
       "    <tr>\n",
       "      <th>7</th>\n",
       "      <td>29.322811</td>\n",
       "      <td>77.447945</td>\n",
       "      <td>7.0</td>\n",
       "    </tr>\n",
       "    <tr>\n",
       "      <th>8</th>\n",
       "      <td>0.510884</td>\n",
       "      <td>11.285765</td>\n",
       "      <td>8.0</td>\n",
       "    </tr>\n",
       "    <tr>\n",
       "      <th>9</th>\n",
       "      <td>11.095367</td>\n",
       "      <td>24.766823</td>\n",
       "      <td>9.0</td>\n",
       "    </tr>\n",
       "    <tr>\n",
       "      <th>10</th>\n",
       "      <td>2.323630</td>\n",
       "      <td>72.732115</td>\n",
       "      <td>10.0</td>\n",
       "    </tr>\n",
       "    <tr>\n",
       "      <th>11</th>\n",
       "      <td>34.003494</td>\n",
       "      <td>19.750316</td>\n",
       "      <td>11.0</td>\n",
       "    </tr>\n",
       "    <tr>\n",
       "      <th>12</th>\n",
       "      <td>90.917959</td>\n",
       "      <td>97.834699</td>\n",
       "      <td>12.0</td>\n",
       "    </tr>\n",
       "    <tr>\n",
       "      <th>13</th>\n",
       "      <td>53.280254</td>\n",
       "      <td>25.913185</td>\n",
       "      <td>13.0</td>\n",
       "    </tr>\n",
       "    <tr>\n",
       "      <th>14</th>\n",
       "      <td>58.381262</td>\n",
       "      <td>32.569065</td>\n",
       "      <td>14.0</td>\n",
       "    </tr>\n",
       "  </tbody>\n",
       "</table>\n",
       "</div>"
      ],
      "text/plain": [
       "    Feature_1  Feature_2  Target\n",
       "0   70.043712  84.418664     0.0\n",
       "1   67.651434  72.785806     1.0\n",
       "2   95.145796   1.270320     2.0\n",
       "3   41.358770   4.881279     3.0\n",
       "4    9.992856  50.806631     4.0\n",
       "5   20.024754  74.415417     5.0\n",
       "6   19.289200  70.084475     6.0\n",
       "7   29.322811  77.447945     7.0\n",
       "8    0.510884  11.285765     8.0\n",
       "9   11.095367  24.766823     9.0\n",
       "10   2.323630  72.732115    10.0\n",
       "11  34.003494  19.750316    11.0\n",
       "12  90.917959  97.834699    12.0\n",
       "13  53.280254  25.913185    13.0\n",
       "14  58.381262  32.569065    14.0"
      ]
     },
     "execution_count": 5,
     "metadata": {},
     "output_type": "execute_result"
    }
   ],
   "source": [
    "# generate sample data\n",
    "np.random.seed(666)\n",
    "X_train = np.random.rand(15, 2) * 100 # 15 rows, 2 kolom\n",
    "y_train = np.arange(15)\n",
    "\n",
    "# build dataframe\n",
    "data = np.hstack((X_train, y_train.reshape(-1, 1))) # combine x dan y secara horizontal\n",
    "sample_df = pd.DataFrame(data, columns=[\"Feature_1\", \"Feature_2\", \"Target\"])\n",
    "\n",
    "# display dataframe\n",
    "sample_df"
   ]
  },
  {
   "cell_type": "code",
   "execution_count": 6,
   "metadata": {},
   "outputs": [
    {
     "data": {
      "text/plain": [
       "<ml_from_scratch.neighbors.base.baseKNN at 0x1ad67905300>"
      ]
     },
     "execution_count": 6,
     "metadata": {},
     "output_type": "execute_result"
    }
   ],
   "source": [
    "# init base knn\n",
    "model = baseKNN(k=3, metric=\"euclidean\")\n",
    "\n",
    "# fit model \n",
    "X_train = sample_df.drop(columns=\"Target\", axis=0)\n",
    "y_train = sample_df[\"Target\"]\n",
    "model.fit(X_train, y_train)\n",
    "\n",
    "model"
   ]
  },
  {
   "cell_type": "code",
   "execution_count": 7,
   "metadata": {},
   "outputs": [
    {
     "name": "stdout",
     "output_type": "stream",
     "text": [
      "calculated nearest distance: [13.67768095 18.63948763 20.75202463]\n",
      "labels of the nearest neighbors: [13. 14.  3.]\n"
     ]
    },
    {
     "data": {
      "text/plain": [
       "None"
      ]
     },
     "metadata": {},
     "output_type": "display_data"
    },
    {
     "data": {
      "text/plain": [
       "None"
      ]
     },
     "metadata": {},
     "output_type": "display_data"
    }
   ],
   "source": [
    "# set test point\n",
    "test_point = np.array([[60, 14]])\n",
    "\n",
    "# find nearest neighbors\n",
    "nearest_neighbors, nearest_neighbors_distances = model._get_nearest_neighbors(test_point)\n",
    "\n",
    "display(print(f\"calculated nearest distance: {nearest_neighbors_distances}\"),\n",
    "        print(f\"labels of the nearest neighbors: {nearest_neighbors}\"))"
   ]
  },
  {
   "cell_type": "markdown",
   "metadata": {},
   "source": [
    "Initial `regressionKNN` testing"
   ]
  },
  {
   "cell_type": "code",
   "execution_count": 8,
   "metadata": {},
   "outputs": [
    {
     "data": {
      "text/html": [
       "<div>\n",
       "<style scoped>\n",
       "    .dataframe tbody tr th:only-of-type {\n",
       "        vertical-align: middle;\n",
       "    }\n",
       "\n",
       "    .dataframe tbody tr th {\n",
       "        vertical-align: top;\n",
       "    }\n",
       "\n",
       "    .dataframe thead th {\n",
       "        text-align: right;\n",
       "    }\n",
       "</style>\n",
       "<table border=\"1\" class=\"dataframe\">\n",
       "  <thead>\n",
       "    <tr style=\"text-align: right;\">\n",
       "      <th></th>\n",
       "      <th>Feature_1</th>\n",
       "      <th>Feature_2</th>\n",
       "      <th>Target</th>\n",
       "    </tr>\n",
       "  </thead>\n",
       "  <tbody>\n",
       "    <tr>\n",
       "      <th>0</th>\n",
       "      <td>70.043712</td>\n",
       "      <td>84.418664</td>\n",
       "      <td>0.0</td>\n",
       "    </tr>\n",
       "    <tr>\n",
       "      <th>1</th>\n",
       "      <td>67.651434</td>\n",
       "      <td>72.785806</td>\n",
       "      <td>1.0</td>\n",
       "    </tr>\n",
       "    <tr>\n",
       "      <th>2</th>\n",
       "      <td>95.145796</td>\n",
       "      <td>1.270320</td>\n",
       "      <td>2.0</td>\n",
       "    </tr>\n",
       "    <tr>\n",
       "      <th>3</th>\n",
       "      <td>41.358770</td>\n",
       "      <td>4.881279</td>\n",
       "      <td>3.0</td>\n",
       "    </tr>\n",
       "    <tr>\n",
       "      <th>4</th>\n",
       "      <td>9.992856</td>\n",
       "      <td>50.806631</td>\n",
       "      <td>4.0</td>\n",
       "    </tr>\n",
       "    <tr>\n",
       "      <th>5</th>\n",
       "      <td>20.024754</td>\n",
       "      <td>74.415417</td>\n",
       "      <td>5.0</td>\n",
       "    </tr>\n",
       "    <tr>\n",
       "      <th>6</th>\n",
       "      <td>19.289200</td>\n",
       "      <td>70.084475</td>\n",
       "      <td>6.0</td>\n",
       "    </tr>\n",
       "    <tr>\n",
       "      <th>7</th>\n",
       "      <td>29.322811</td>\n",
       "      <td>77.447945</td>\n",
       "      <td>7.0</td>\n",
       "    </tr>\n",
       "    <tr>\n",
       "      <th>8</th>\n",
       "      <td>0.510884</td>\n",
       "      <td>11.285765</td>\n",
       "      <td>8.0</td>\n",
       "    </tr>\n",
       "    <tr>\n",
       "      <th>9</th>\n",
       "      <td>11.095367</td>\n",
       "      <td>24.766823</td>\n",
       "      <td>9.0</td>\n",
       "    </tr>\n",
       "    <tr>\n",
       "      <th>10</th>\n",
       "      <td>2.323630</td>\n",
       "      <td>72.732115</td>\n",
       "      <td>10.0</td>\n",
       "    </tr>\n",
       "    <tr>\n",
       "      <th>11</th>\n",
       "      <td>34.003494</td>\n",
       "      <td>19.750316</td>\n",
       "      <td>11.0</td>\n",
       "    </tr>\n",
       "    <tr>\n",
       "      <th>12</th>\n",
       "      <td>90.917959</td>\n",
       "      <td>97.834699</td>\n",
       "      <td>12.0</td>\n",
       "    </tr>\n",
       "    <tr>\n",
       "      <th>13</th>\n",
       "      <td>53.280254</td>\n",
       "      <td>25.913185</td>\n",
       "      <td>13.0</td>\n",
       "    </tr>\n",
       "    <tr>\n",
       "      <th>14</th>\n",
       "      <td>58.381262</td>\n",
       "      <td>32.569065</td>\n",
       "      <td>14.0</td>\n",
       "    </tr>\n",
       "  </tbody>\n",
       "</table>\n",
       "</div>"
      ],
      "text/plain": [
       "    Feature_1  Feature_2  Target\n",
       "0   70.043712  84.418664     0.0\n",
       "1   67.651434  72.785806     1.0\n",
       "2   95.145796   1.270320     2.0\n",
       "3   41.358770   4.881279     3.0\n",
       "4    9.992856  50.806631     4.0\n",
       "5   20.024754  74.415417     5.0\n",
       "6   19.289200  70.084475     6.0\n",
       "7   29.322811  77.447945     7.0\n",
       "8    0.510884  11.285765     8.0\n",
       "9   11.095367  24.766823     9.0\n",
       "10   2.323630  72.732115    10.0\n",
       "11  34.003494  19.750316    11.0\n",
       "12  90.917959  97.834699    12.0\n",
       "13  53.280254  25.913185    13.0\n",
       "14  58.381262  32.569065    14.0"
      ]
     },
     "execution_count": 8,
     "metadata": {},
     "output_type": "execute_result"
    }
   ],
   "source": [
    "# generate sample data\n",
    "np.random.seed(666)\n",
    "X_train = np.random.rand(15, 2) * 100 # 15 rows, 2 kolom\n",
    "y_train = np.arange(15)\n",
    "\n",
    "# build dataframe\n",
    "data = np.hstack((X_train, y_train.reshape(-1, 1))) # combine x dan y secara horizontal\n",
    "sample_df = pd.DataFrame(data, columns=[\"Feature_1\", \"Feature_2\", \"Target\"])\n",
    "\n",
    "# display dataframe\n",
    "sample_df"
   ]
  },
  {
   "cell_type": "code",
   "execution_count": 9,
   "metadata": {},
   "outputs": [
    {
     "data": {
      "text/plain": [
       "<ml_from_scratch.neighbors.regression.regressionKNN at 0x1ad785feb00>"
      ]
     },
     "execution_count": 9,
     "metadata": {},
     "output_type": "execute_result"
    }
   ],
   "source": [
    "# init regression knn\n",
    "model = regressionKNN(k=3, metric=\"euclidean\")\n",
    "\n",
    "# fit model \n",
    "X_train = sample_df.drop(columns=\"Target\", axis=0)\n",
    "y_train = sample_df[\"Target\"]\n",
    "model.fit(X_train, y_train)\n",
    "\n",
    "model"
   ]
  },
  {
   "cell_type": "code",
   "execution_count": 10,
   "metadata": {},
   "outputs": [
    {
     "name": "stdout",
     "output_type": "stream",
     "text": [
      "prediction: [4.33333333]\n",
      "nearest neighbors: [ 1.  0. 12.]\n",
      "calculated nearest distance: [ 3.64369012 14.41873054 34.81855053]\n"
     ]
    },
    {
     "data": {
      "text/plain": [
       "None"
      ]
     },
     "metadata": {},
     "output_type": "display_data"
    },
    {
     "data": {
      "text/plain": [
       "None"
      ]
     },
     "metadata": {},
     "output_type": "display_data"
    },
    {
     "data": {
      "text/plain": [
       "None"
      ]
     },
     "metadata": {},
     "output_type": "display_data"
    }
   ],
   "source": [
    "# set test point\n",
    "test_point = np.array([[70, 70]])\n",
    "\n",
    "# predict\n",
    "prediction, nearest_neighbors, nearest_neighbors_distances = model.predict(test_point)\n",
    "\n",
    "\n",
    "display(print(f\"prediction: {prediction}\"),\n",
    "        print(f\"nearest neighbors: {nearest_neighbors}\"),\n",
    "        print(f\"calculated nearest distance: {nearest_neighbors_distances}\"))"
   ]
  },
  {
   "cell_type": "markdown",
   "metadata": {},
   "source": [
    "Initial `classificationKNN` testing"
   ]
  },
  {
   "cell_type": "code",
   "execution_count": 11,
   "metadata": {},
   "outputs": [
    {
     "data": {
      "text/html": [
       "<div>\n",
       "<style scoped>\n",
       "    .dataframe tbody tr th:only-of-type {\n",
       "        vertical-align: middle;\n",
       "    }\n",
       "\n",
       "    .dataframe tbody tr th {\n",
       "        vertical-align: top;\n",
       "    }\n",
       "\n",
       "    .dataframe thead th {\n",
       "        text-align: right;\n",
       "    }\n",
       "</style>\n",
       "<table border=\"1\" class=\"dataframe\">\n",
       "  <thead>\n",
       "    <tr style=\"text-align: right;\">\n",
       "      <th></th>\n",
       "      <th>Feature_1</th>\n",
       "      <th>Feature_2</th>\n",
       "      <th>Target</th>\n",
       "    </tr>\n",
       "  </thead>\n",
       "  <tbody>\n",
       "    <tr>\n",
       "      <th>0</th>\n",
       "      <td>14.638848</td>\n",
       "      <td>13.167030</td>\n",
       "      <td>0.0</td>\n",
       "    </tr>\n",
       "    <tr>\n",
       "      <th>1</th>\n",
       "      <td>1.909248</td>\n",
       "      <td>5.617921</td>\n",
       "      <td>0.0</td>\n",
       "    </tr>\n",
       "    <tr>\n",
       "      <th>2</th>\n",
       "      <td>18.944968</td>\n",
       "      <td>12.022494</td>\n",
       "      <td>0.0</td>\n",
       "    </tr>\n",
       "    <tr>\n",
       "      <th>3</th>\n",
       "      <td>14.041221</td>\n",
       "      <td>18.331201</td>\n",
       "      <td>0.0</td>\n",
       "    </tr>\n",
       "    <tr>\n",
       "      <th>4</th>\n",
       "      <td>12.042939</td>\n",
       "      <td>12.143878</td>\n",
       "      <td>0.0</td>\n",
       "    </tr>\n",
       "    <tr>\n",
       "      <th>5</th>\n",
       "      <td>3.710894</td>\n",
       "      <td>11.187335</td>\n",
       "      <td>0.0</td>\n",
       "    </tr>\n",
       "    <tr>\n",
       "      <th>6</th>\n",
       "      <td>18.972464</td>\n",
       "      <td>14.241598</td>\n",
       "      <td>0.0</td>\n",
       "    </tr>\n",
       "    <tr>\n",
       "      <th>7</th>\n",
       "      <td>7.459821</td>\n",
       "      <td>9.821248</td>\n",
       "      <td>0.0</td>\n",
       "    </tr>\n",
       "    <tr>\n",
       "      <th>8</th>\n",
       "      <td>12.788274</td>\n",
       "      <td>13.713039</td>\n",
       "      <td>0.0</td>\n",
       "    </tr>\n",
       "    <tr>\n",
       "      <th>9</th>\n",
       "      <td>9.606233</td>\n",
       "      <td>10.949211</td>\n",
       "      <td>0.0</td>\n",
       "    </tr>\n",
       "    <tr>\n",
       "      <th>10</th>\n",
       "      <td>5.555581</td>\n",
       "      <td>5.301371</td>\n",
       "      <td>0.0</td>\n",
       "    </tr>\n",
       "    <tr>\n",
       "      <th>11</th>\n",
       "      <td>1.655587</td>\n",
       "      <td>11.470938</td>\n",
       "      <td>0.0</td>\n",
       "    </tr>\n",
       "    <tr>\n",
       "      <th>12</th>\n",
       "      <td>3.823269</td>\n",
       "      <td>11.168668</td>\n",
       "      <td>0.0</td>\n",
       "    </tr>\n",
       "    <tr>\n",
       "      <th>13</th>\n",
       "      <td>16.406457</td>\n",
       "      <td>14.435926</td>\n",
       "      <td>0.0</td>\n",
       "    </tr>\n",
       "    <tr>\n",
       "      <th>14</th>\n",
       "      <td>13.409002</td>\n",
       "      <td>12.537828</td>\n",
       "      <td>0.0</td>\n",
       "    </tr>\n",
       "    <tr>\n",
       "      <th>15</th>\n",
       "      <td>19.945534</td>\n",
       "      <td>24.406220</td>\n",
       "      <td>1.0</td>\n",
       "    </tr>\n",
       "    <tr>\n",
       "      <th>16</th>\n",
       "      <td>26.002765</td>\n",
       "      <td>25.258499</td>\n",
       "      <td>1.0</td>\n",
       "    </tr>\n",
       "    <tr>\n",
       "      <th>17</th>\n",
       "      <td>19.623267</td>\n",
       "      <td>27.806164</td>\n",
       "      <td>1.0</td>\n",
       "    </tr>\n",
       "    <tr>\n",
       "      <th>18</th>\n",
       "      <td>20.039250</td>\n",
       "      <td>34.644113</td>\n",
       "      <td>1.0</td>\n",
       "    </tr>\n",
       "    <tr>\n",
       "      <th>19</th>\n",
       "      <td>20.649964</td>\n",
       "      <td>28.080139</td>\n",
       "      <td>1.0</td>\n",
       "    </tr>\n",
       "    <tr>\n",
       "      <th>20</th>\n",
       "      <td>19.040046</td>\n",
       "      <td>27.297113</td>\n",
       "      <td>1.0</td>\n",
       "    </tr>\n",
       "    <tr>\n",
       "      <th>21</th>\n",
       "      <td>18.562081</td>\n",
       "      <td>32.219194</td>\n",
       "      <td>1.0</td>\n",
       "    </tr>\n",
       "    <tr>\n",
       "      <th>22</th>\n",
       "      <td>18.346897</td>\n",
       "      <td>26.829956</td>\n",
       "      <td>1.0</td>\n",
       "    </tr>\n",
       "    <tr>\n",
       "      <th>23</th>\n",
       "      <td>23.264155</td>\n",
       "      <td>24.861864</td>\n",
       "      <td>1.0</td>\n",
       "    </tr>\n",
       "    <tr>\n",
       "      <th>24</th>\n",
       "      <td>27.702781</td>\n",
       "      <td>26.002007</td>\n",
       "      <td>1.0</td>\n",
       "    </tr>\n",
       "    <tr>\n",
       "      <th>25</th>\n",
       "      <td>25.360349</td>\n",
       "      <td>25.720395</td>\n",
       "      <td>1.0</td>\n",
       "    </tr>\n",
       "    <tr>\n",
       "      <th>26</th>\n",
       "      <td>25.931667</td>\n",
       "      <td>23.915459</td>\n",
       "      <td>1.0</td>\n",
       "    </tr>\n",
       "    <tr>\n",
       "      <th>27</th>\n",
       "      <td>29.143465</td>\n",
       "      <td>31.658597</td>\n",
       "      <td>1.0</td>\n",
       "    </tr>\n",
       "    <tr>\n",
       "      <th>28</th>\n",
       "      <td>23.848149</td>\n",
       "      <td>32.326174</td>\n",
       "      <td>1.0</td>\n",
       "    </tr>\n",
       "    <tr>\n",
       "      <th>29</th>\n",
       "      <td>25.658142</td>\n",
       "      <td>26.277266</td>\n",
       "      <td>1.0</td>\n",
       "    </tr>\n",
       "  </tbody>\n",
       "</table>\n",
       "</div>"
      ],
      "text/plain": [
       "    Feature_1  Feature_2  Target\n",
       "0   14.638848  13.167030     0.0\n",
       "1    1.909248   5.617921     0.0\n",
       "2   18.944968  12.022494     0.0\n",
       "3   14.041221  18.331201     0.0\n",
       "4   12.042939  12.143878     0.0\n",
       "5    3.710894  11.187335     0.0\n",
       "6   18.972464  14.241598     0.0\n",
       "7    7.459821   9.821248     0.0\n",
       "8   12.788274  13.713039     0.0\n",
       "9    9.606233  10.949211     0.0\n",
       "10   5.555581   5.301371     0.0\n",
       "11   1.655587  11.470938     0.0\n",
       "12   3.823269  11.168668     0.0\n",
       "13  16.406457  14.435926     0.0\n",
       "14  13.409002  12.537828     0.0\n",
       "15  19.945534  24.406220     1.0\n",
       "16  26.002765  25.258499     1.0\n",
       "17  19.623267  27.806164     1.0\n",
       "18  20.039250  34.644113     1.0\n",
       "19  20.649964  28.080139     1.0\n",
       "20  19.040046  27.297113     1.0\n",
       "21  18.562081  32.219194     1.0\n",
       "22  18.346897  26.829956     1.0\n",
       "23  23.264155  24.861864     1.0\n",
       "24  27.702781  26.002007     1.0\n",
       "25  25.360349  25.720395     1.0\n",
       "26  25.931667  23.915459     1.0\n",
       "27  29.143465  31.658597     1.0\n",
       "28  23.848149  32.326174     1.0\n",
       "29  25.658142  26.277266     1.0"
      ]
     },
     "execution_count": 11,
     "metadata": {},
     "output_type": "execute_result"
    }
   ],
   "source": [
    "np.random.seed(555)\n",
    "\n",
    "n_samples = 15\n",
    "feature1_class0 = np.random.uniform(1, 20, n_samples)\n",
    "feature2_class0 = np.random.uniform(5, 20, n_samples)\n",
    "y_class0 = np.zeros(n_samples)\n",
    "\n",
    "feature1_class1 = np.random.uniform(18, 30, n_samples)\n",
    "feature2_class1 = np.random.uniform(22, 35, n_samples)\n",
    "y_class1 = np.ones(n_samples)\n",
    "\n",
    "X_train = np.vstack((np.column_stack((feature1_class0, feature2_class0)),\n",
    "                     np.column_stack((feature1_class1, feature2_class1))))\n",
    "y_train = np.hstack((y_class0, y_class1))\n",
    "\n",
    "sample_df = pd.DataFrame(X_train, columns=[\"Feature_1\", \"Feature_2\"])\n",
    "sample_df[\"Target\"] = y_train\n",
    "\n",
    "test_point = np.array([[19, 19]])\n",
    "\n",
    "sample_df"
   ]
  },
  {
   "cell_type": "code",
   "execution_count": 12,
   "metadata": {},
   "outputs": [
    {
     "data": {
      "text/plain": [
       "array([19, 19])"
      ]
     },
     "execution_count": 12,
     "metadata": {},
     "output_type": "execute_result"
    }
   ],
   "source": [
    "test_point[0]"
   ]
  },
  {
   "cell_type": "code",
   "execution_count": 13,
   "metadata": {},
   "outputs": [
    {
     "data": {
      "image/png": "[encoded data removed]",
      "text/plain": [
       "<Figure size 600x500 with 1 Axes>"
      ]
     },
     "metadata": {},
     "output_type": "display_data"
    }
   ],
   "source": [
    "plt.figure(figsize=(6,5))\n",
    "plt.scatter(sample_df[\"Feature_1\"], sample_df[\"Feature_2\"], c=sample_df[\"Target\"], label=\"Training\")\n",
    "plt.scatter(test_point[0][0], test_point[0][1], color=\"red\", label=\"Test\", zorder=5)\n",
    "plt.xlabel(\"Feature 1\")\n",
    "plt.ylabel(\"Feature 2\")\n",
    "plt.title(\"Dataset Sintetis\")\n",
    "plt.legend()\n",
    "plt.show()"
   ]
  },
  {
   "cell_type": "code",
   "execution_count": 14,
   "metadata": {},
   "outputs": [
    {
     "data": {
      "text/plain": [
       "<ml_from_scratch.neighbors.classification.classificationKNN at 0x1ad785fcdc0>"
      ]
     },
     "execution_count": 14,
     "metadata": {},
     "output_type": "execute_result"
    }
   ],
   "source": [
    "# init classification knn\n",
    "model = classificationKNN(k=7, metric=\"euclidean\")\n",
    "\n",
    "# fit model \n",
    "X_train = sample_df.drop(columns=\"Target\", axis=0)\n",
    "y_train = sample_df[\"Target\"]\n",
    "model.fit(X_train, y_train)\n",
    "\n",
    "model"
   ]
  },
  {
   "cell_type": "code",
   "execution_count": 16,
   "metadata": {},
   "outputs": [
    {
     "name": "stdout",
     "output_type": "stream",
     "text": [
      "prediction: [{'class': 0.0, 'probability': 0.7142857142857143}]\n"
     ]
    }
   ],
   "source": [
    "# predict\n",
    "prediction = model.predict(test_point)\n",
    "\n",
    "\n",
    "print(f\"prediction: {prediction}\")"
   ]
  }
 ],
 "metadata": {
  "kernelspec": {
   "display_name": ".venv",
   "language": "python",
   "name": "python3"
  },
  "language_info": {
   "codemirror_mode": {
    "name": "ipython",
    "version": 3
   },
   "file_extension": ".py",
   "mimetype": "text/x-python",
   "name": "python",
   "nbconvert_exporter": "python",
   "pygments_lexer": "ipython3",
   "version": "3.10.11"
  }
 },
 "nbformat": 4,
 "nbformat_minor": 2
}
